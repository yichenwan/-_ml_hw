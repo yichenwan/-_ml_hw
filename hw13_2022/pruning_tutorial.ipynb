{
  "cells": [
    {
      "cell_type": "code",
      "execution_count": 1,
      "metadata": {
        "id": "NjepFhKcK6WF"
      },
      "outputs": [],
      "source": [
        "%matplotlib inline"
      ]
    },
    {
      "cell_type": "markdown",
      "metadata": {
        "id": "fj63JQ_0K6WJ"
      },
      "source": [
        "\n",
        "Pruning Tutorial\n",
        "=====================================\n",
        "**Author**: `Michela Paganini <https://github.com/mickypaganini>`_\n",
        "\n",
        "State-of-the-art deep learning techniques rely on over-parametrized models\n",
        "that are hard to deploy. On the contrary, biological neural networks are\n",
        "known to use efficient sparse connectivity. Identifying optimal  \n",
        "techniques to compress models by reducing the number of parameters in them is\n",
        "important in order to reduce memory, battery, and hardware consumption without\n",
        "sacrificing accuracy, deploy lightweight models on device, and guarantee\n",
        "privacy with private on-device computation. On the research front, pruning is\n",
        "used to investigate the differences in learning dynamics between\n",
        "over-parametrized and under-parametrized networks, to study the role of lucky\n",
        "sparse subnetworks and initializations\n",
        "(\"`lottery tickets <https://arxiv.org/abs/1803.03635>`_\") as a destructive\n",
        "neural architecture search technique, and more.\n",
        "\n",
        "In this tutorial, you will learn how to use ``torch.nn.utils.prune`` to\n",
        "sparsify your neural networks, and how to extend it to implement your\n",
        "own custom pruning technique.\n",
        "\n",
        "Requirements\n",
        "------------\n",
        "``\"torch>=1.4.0a0+8e8a5e0\"``\n"
      ]
    },
    {
      "cell_type": "code",
      "execution_count": 2,
      "metadata": {
        "id": "dnjX_VHQK6WL"
      },
      "outputs": [],
      "source": [
        "import torch\n",
        "from torch import nn\n",
        "import torch.nn.utils.prune as prune\n",
        "import torch.nn.functional as F"
      ]
    },
    {
      "cell_type": "markdown",
      "metadata": {
        "id": "zdWkjPCzK6WL"
      },
      "source": [
        "Create a model\n",
        "--------------\n",
        "\n",
        "In this tutorial, we use the `LeNet\n",
        "<http://yann.lecun.com/exdb/publis/pdf/lecun-98.pdf>`_ architecture from\n",
        "LeCun et al., 1998.\n",
        "\n"
      ]
    },
    {
      "cell_type": "code",
      "execution_count": 3,
      "metadata": {
        "id": "tot0goTgK6WL"
      },
      "outputs": [],
      "source": [
        "device = torch.device(\"cuda\" if torch.cuda.is_available() else \"cpu\")\n",
        "\n",
        "class LeNet(nn.Module):\n",
        "    def __init__(self):\n",
        "        super(LeNet, self).__init__()\n",
        "        # 1 input image channel, 6 output channels, 3x3 square conv kernel\n",
        "        self.conv1 = nn.Conv2d(1, 6, 3)\n",
        "        self.conv2 = nn.Conv2d(6, 16, 3)\n",
        "        self.fc1 = nn.Linear(16 * 5 * 5, 120)  # 5x5 image dimension\n",
        "        self.fc2 = nn.Linear(120, 84)\n",
        "        self.fc3 = nn.Linear(84, 10)\n",
        "\n",
        "    def forward(self, x):\n",
        "        x = F.max_pool2d(F.relu(self.conv1(x)), (2, 2))\n",
        "        x = F.max_pool2d(F.relu(self.conv2(x)), 2)\n",
        "        x = x.view(-1, int(x.nelement() / x.shape[0]))\n",
        "        x = F.relu(self.fc1(x))\n",
        "        x = F.relu(self.fc2(x))\n",
        "        x = self.fc3(x)\n",
        "        return x\n",
        "\n",
        "model = LeNet().to(device=device)"
      ]
    },
    {
      "cell_type": "markdown",
      "metadata": {
        "id": "bkQtfzNwK6WM"
      },
      "source": [
        "Inspect a Module\n",
        "----------------\n",
        "\n",
        "Let's inspect the (unpruned) ``conv1`` layer in our LeNet model. It will contain two\n",
        "parameters ``weight`` and ``bias``, and no buffers, for now.\n",
        "\n"
      ]
    },
    {
      "cell_type": "code",
      "execution_count": 4,
      "metadata": {
        "id": "T_4iDMVuK6WM",
        "outputId": "18405fc2-4279-4e21-f5ed-e8b7b88866cd",
        "colab": {
          "base_uri": "https://localhost:8080/"
        }
      },
      "outputs": [
        {
          "output_type": "stream",
          "name": "stdout",
          "text": [
            "[('weight', Parameter containing:\n",
            "tensor([[[[-0.3042, -0.0610,  0.2317],\n",
            "          [ 0.1391, -0.2432, -0.1701],\n",
            "          [ 0.3275,  0.0943,  0.3178]]],\n",
            "\n",
            "\n",
            "        [[[-0.0484,  0.0246,  0.1758],\n",
            "          [-0.1188, -0.3119,  0.2522],\n",
            "          [-0.1655, -0.1324, -0.2693]]],\n",
            "\n",
            "\n",
            "        [[[-0.2291,  0.2125, -0.1033],\n",
            "          [-0.0627, -0.1335,  0.0538],\n",
            "          [ 0.3298,  0.2269,  0.2943]]],\n",
            "\n",
            "\n",
            "        [[[ 0.2312, -0.2998,  0.2443],\n",
            "          [ 0.0900, -0.2461, -0.1607],\n",
            "          [ 0.2210, -0.3287,  0.1991]]],\n",
            "\n",
            "\n",
            "        [[[-0.2154,  0.1171, -0.1261],\n",
            "          [-0.0733, -0.2298,  0.0097],\n",
            "          [ 0.3044,  0.3312,  0.2372]]],\n",
            "\n",
            "\n",
            "        [[[-0.2273,  0.3214,  0.0886],\n",
            "          [-0.0253, -0.1277, -0.0233],\n",
            "          [-0.1448,  0.0232,  0.0595]]]], requires_grad=True)), ('bias', Parameter containing:\n",
            "tensor([ 0.2169,  0.2489,  0.0610, -0.2357, -0.2046,  0.1156],\n",
            "       requires_grad=True))]\n"
          ]
        }
      ],
      "source": [
        "module = model.conv1\n",
        "print(list(module.named_parameters()))"
      ]
    },
    {
      "cell_type": "code",
      "execution_count": 5,
      "metadata": {
        "id": "E8SIi4ceK6WN",
        "outputId": "af5f6ffb-e6e5-4f69-f50a-0d002031f3e6",
        "colab": {
          "base_uri": "https://localhost:8080/"
        }
      },
      "outputs": [
        {
          "output_type": "stream",
          "name": "stdout",
          "text": [
            "[]\n"
          ]
        }
      ],
      "source": [
        "print(list(module.named_buffers()))"
      ]
    },
    {
      "cell_type": "markdown",
      "metadata": {
        "id": "AG3_KFPfK6WN"
      },
      "source": [
        "Pruning a Module\n",
        "----------------\n",
        "\n",
        "To prune a module (in this example, the ``conv1`` layer of our LeNet\n",
        "architecture), first select a pruning technique among those available in\n",
        "``torch.nn.utils.prune`` (or\n",
        "`implement <#extending-torch-nn-utils-pruning-with-custom-pruning-functions>`_\n",
        "your own by subclassing\n",
        "``BasePruningMethod``). Then, specify the module and the name of the parameter to\n",
        "prune within that module. Finally, using the adequate keyword arguments\n",
        "required by the selected pruning technique, specify the pruning parameters.\n",
        "\n",
        "In this example, we will prune at random 30% of the connections in\n",
        "the parameter named ``weight`` in the ``conv1`` layer.\n",
        "The module is passed as the first argument to the function; ``name``\n",
        "identifies the parameter within that module using its string identifier; and\n",
        "``amount`` indicates either the percentage of connections to prune (if it\n",
        "is a float between 0. and 1.), or the absolute number of connections to\n",
        "prune (if it is a non-negative integer).\n",
        "\n"
      ]
    },
    {
      "cell_type": "code",
      "execution_count": 6,
      "metadata": {
        "id": "OpPhvZ0uK6WN",
        "outputId": "604012a7-7205-4c67-e2cd-959a1732d30e",
        "colab": {
          "base_uri": "https://localhost:8080/"
        }
      },
      "outputs": [
        {
          "output_type": "execute_result",
          "data": {
            "text/plain": [
              "Conv2d(1, 6, kernel_size=(3, 3), stride=(1, 1))"
            ]
          },
          "metadata": {},
          "execution_count": 6
        }
      ],
      "source": [
        "prune.random_unstructured(module, name=\"weight\", amount=0.3)"
      ]
    },
    {
      "cell_type": "markdown",
      "metadata": {
        "id": "UpmgmC_FK6WN"
      },
      "source": [
        "Pruning acts by removing ``weight`` from the parameters and replacing it with\n",
        "a new parameter called ``weight_orig`` (i.e. appending ``\"_orig\"`` to the\n",
        "initial parameter ``name``). ``weight_orig`` stores the unpruned version of\n",
        "the tensor. The ``bias`` was not pruned, so it will remain intact.\n",
        "\n"
      ]
    },
    {
      "cell_type": "code",
      "execution_count": 7,
      "metadata": {
        "id": "-3JjaZY_K6WO",
        "outputId": "e54afdc2-8fe9-4629-cb83-966f2643f9a1",
        "colab": {
          "base_uri": "https://localhost:8080/"
        }
      },
      "outputs": [
        {
          "output_type": "stream",
          "name": "stdout",
          "text": [
            "[('bias', Parameter containing:\n",
            "tensor([ 0.2169,  0.2489,  0.0610, -0.2357, -0.2046,  0.1156],\n",
            "       requires_grad=True)), ('weight_orig', Parameter containing:\n",
            "tensor([[[[-0.3042, -0.0610,  0.2317],\n",
            "          [ 0.1391, -0.2432, -0.1701],\n",
            "          [ 0.3275,  0.0943,  0.3178]]],\n",
            "\n",
            "\n",
            "        [[[-0.0484,  0.0246,  0.1758],\n",
            "          [-0.1188, -0.3119,  0.2522],\n",
            "          [-0.1655, -0.1324, -0.2693]]],\n",
            "\n",
            "\n",
            "        [[[-0.2291,  0.2125, -0.1033],\n",
            "          [-0.0627, -0.1335,  0.0538],\n",
            "          [ 0.3298,  0.2269,  0.2943]]],\n",
            "\n",
            "\n",
            "        [[[ 0.2312, -0.2998,  0.2443],\n",
            "          [ 0.0900, -0.2461, -0.1607],\n",
            "          [ 0.2210, -0.3287,  0.1991]]],\n",
            "\n",
            "\n",
            "        [[[-0.2154,  0.1171, -0.1261],\n",
            "          [-0.0733, -0.2298,  0.0097],\n",
            "          [ 0.3044,  0.3312,  0.2372]]],\n",
            "\n",
            "\n",
            "        [[[-0.2273,  0.3214,  0.0886],\n",
            "          [-0.0253, -0.1277, -0.0233],\n",
            "          [-0.1448,  0.0232,  0.0595]]]], requires_grad=True))]\n"
          ]
        }
      ],
      "source": [
        "print(list(module.named_parameters()))"
      ]
    },
    {
      "cell_type": "markdown",
      "metadata": {
        "id": "TVtjAdgJK6WO"
      },
      "source": [
        "The pruning mask generated by the pruning technique selected above is saved\n",
        "as a module buffer named ``weight_mask`` (i.e. appending ``\"_mask\"`` to the\n",
        "initial parameter ``name``).\n",
        "\n"
      ]
    },
    {
      "cell_type": "code",
      "execution_count": 8,
      "metadata": {
        "id": "UUsdB0RBK6WO",
        "outputId": "bd087b6e-c5d6-4114-84d8-d6b6f0ce412f",
        "colab": {
          "base_uri": "https://localhost:8080/"
        }
      },
      "outputs": [
        {
          "output_type": "stream",
          "name": "stdout",
          "text": [
            "[('weight_mask', tensor([[[[1., 0., 1.],\n",
            "          [1., 1., 1.],\n",
            "          [0., 1., 0.]]],\n",
            "\n",
            "\n",
            "        [[[1., 1., 1.],\n",
            "          [0., 1., 1.],\n",
            "          [0., 1., 1.]]],\n",
            "\n",
            "\n",
            "        [[[0., 1., 1.],\n",
            "          [1., 0., 0.],\n",
            "          [0., 1., 1.]]],\n",
            "\n",
            "\n",
            "        [[[1., 1., 0.],\n",
            "          [1., 0., 1.],\n",
            "          [1., 1., 1.]]],\n",
            "\n",
            "\n",
            "        [[[0., 0., 1.],\n",
            "          [0., 1., 1.],\n",
            "          [1., 1., 0.]]],\n",
            "\n",
            "\n",
            "        [[[0., 1., 1.],\n",
            "          [1., 1., 1.],\n",
            "          [1., 1., 1.]]]]))]\n"
          ]
        }
      ],
      "source": [
        "print(list(module.named_buffers()))"
      ]
    },
    {
      "cell_type": "markdown",
      "metadata": {
        "id": "7kqren7XK6WO"
      },
      "source": [
        "For the forward pass to work without modification, the ``weight`` attribute\n",
        "needs to exist. The pruning techniques implemented in\n",
        "``torch.nn.utils.prune`` compute the pruned version of the weight (by\n",
        "combining the mask with the original parameter) and store them in the\n",
        "attribute ``weight``. Note, this is no longer a parameter of the ``module``,\n",
        "it is now simply an attribute.\n",
        "\n"
      ]
    },
    {
      "cell_type": "code",
      "execution_count": 9,
      "metadata": {
        "id": "ErspVWT9K6WO",
        "outputId": "ee6402a8-4455-4971-c376-518fad43d9fb",
        "colab": {
          "base_uri": "https://localhost:8080/"
        }
      },
      "outputs": [
        {
          "output_type": "stream",
          "name": "stdout",
          "text": [
            "tensor([[[[-0.3042, -0.0000,  0.2317],\n",
            "          [ 0.1391, -0.2432, -0.1701],\n",
            "          [ 0.0000,  0.0943,  0.0000]]],\n",
            "\n",
            "\n",
            "        [[[-0.0484,  0.0246,  0.1758],\n",
            "          [-0.0000, -0.3119,  0.2522],\n",
            "          [-0.0000, -0.1324, -0.2693]]],\n",
            "\n",
            "\n",
            "        [[[-0.0000,  0.2125, -0.1033],\n",
            "          [-0.0627, -0.0000,  0.0000],\n",
            "          [ 0.0000,  0.2269,  0.2943]]],\n",
            "\n",
            "\n",
            "        [[[ 0.2312, -0.2998,  0.0000],\n",
            "          [ 0.0900, -0.0000, -0.1607],\n",
            "          [ 0.2210, -0.3287,  0.1991]]],\n",
            "\n",
            "\n",
            "        [[[-0.0000,  0.0000, -0.1261],\n",
            "          [-0.0000, -0.2298,  0.0097],\n",
            "          [ 0.3044,  0.3312,  0.0000]]],\n",
            "\n",
            "\n",
            "        [[[-0.0000,  0.3214,  0.0886],\n",
            "          [-0.0253, -0.1277, -0.0233],\n",
            "          [-0.1448,  0.0232,  0.0595]]]], grad_fn=<MulBackward0>)\n"
          ]
        }
      ],
      "source": [
        "print(module.weight)"
      ]
    },
    {
      "cell_type": "markdown",
      "metadata": {
        "id": "hkO9mE1iK6WO"
      },
      "source": [
        "Finally, pruning is applied prior to each forward pass using PyTorch's\n",
        "``forward_pre_hooks``. Specifically, when the ``module`` is pruned, as we\n",
        "have done here, it will acquire a ``forward_pre_hook`` for each parameter\n",
        "associated with it that gets pruned. In this case, since we have so far\n",
        "only pruned the original parameter named ``weight``, only one hook will be\n",
        "present.\n",
        "\n"
      ]
    },
    {
      "cell_type": "code",
      "execution_count": 10,
      "metadata": {
        "id": "TaHEkTwmK6WP",
        "outputId": "12a5824c-abb2-42b1-89e5-28616f126038",
        "colab": {
          "base_uri": "https://localhost:8080/"
        }
      },
      "outputs": [
        {
          "output_type": "stream",
          "name": "stdout",
          "text": [
            "OrderedDict([(0, <torch.nn.utils.prune.RandomUnstructured object at 0x79f160e33460>)])\n"
          ]
        }
      ],
      "source": [
        "print(module._forward_pre_hooks)"
      ]
    },
    {
      "cell_type": "markdown",
      "metadata": {
        "id": "3rfYvCEzK6WP"
      },
      "source": [
        "For completeness, we can now prune the ``bias`` too, to see how the\n",
        "parameters, buffers, hooks, and attributes of the ``module`` change.\n",
        "Just for the sake of trying out another pruning technique, here we prune the\n",
        "3 smallest entries in the bias by L1 norm, as implemented in the\n",
        "``l1_unstructured`` pruning function.\n",
        "\n"
      ]
    },
    {
      "cell_type": "code",
      "execution_count": 11,
      "metadata": {
        "id": "iYH8cPq3K6WP",
        "outputId": "05d4b44b-e1d9-44bd-9e08-9a1201917452",
        "colab": {
          "base_uri": "https://localhost:8080/"
        }
      },
      "outputs": [
        {
          "output_type": "execute_result",
          "data": {
            "text/plain": [
              "Conv2d(1, 6, kernel_size=(3, 3), stride=(1, 1))"
            ]
          },
          "metadata": {},
          "execution_count": 11
        }
      ],
      "source": [
        "prune.l1_unstructured(module, name=\"bias\", amount=3)"
      ]
    },
    {
      "cell_type": "markdown",
      "metadata": {
        "id": "mlLpxCKkK6WP"
      },
      "source": [
        "We now expect the named parameters to include both ``weight_orig`` (from\n",
        "before) and ``bias_orig``. The buffers will include ``weight_mask`` and\n",
        "``bias_mask``. The pruned versions of the two tensors will exist as\n",
        "module attributes, and the module will now have two ``forward_pre_hooks``.\n",
        "\n"
      ]
    },
    {
      "cell_type": "code",
      "execution_count": 12,
      "metadata": {
        "id": "qfh9f3vZK6WP",
        "outputId": "ea66540f-4b73-4cb6-f056-648735e9448d",
        "colab": {
          "base_uri": "https://localhost:8080/"
        }
      },
      "outputs": [
        {
          "output_type": "stream",
          "name": "stdout",
          "text": [
            "[('weight_orig', Parameter containing:\n",
            "tensor([[[[-0.3042, -0.0610,  0.2317],\n",
            "          [ 0.1391, -0.2432, -0.1701],\n",
            "          [ 0.3275,  0.0943,  0.3178]]],\n",
            "\n",
            "\n",
            "        [[[-0.0484,  0.0246,  0.1758],\n",
            "          [-0.1188, -0.3119,  0.2522],\n",
            "          [-0.1655, -0.1324, -0.2693]]],\n",
            "\n",
            "\n",
            "        [[[-0.2291,  0.2125, -0.1033],\n",
            "          [-0.0627, -0.1335,  0.0538],\n",
            "          [ 0.3298,  0.2269,  0.2943]]],\n",
            "\n",
            "\n",
            "        [[[ 0.2312, -0.2998,  0.2443],\n",
            "          [ 0.0900, -0.2461, -0.1607],\n",
            "          [ 0.2210, -0.3287,  0.1991]]],\n",
            "\n",
            "\n",
            "        [[[-0.2154,  0.1171, -0.1261],\n",
            "          [-0.0733, -0.2298,  0.0097],\n",
            "          [ 0.3044,  0.3312,  0.2372]]],\n",
            "\n",
            "\n",
            "        [[[-0.2273,  0.3214,  0.0886],\n",
            "          [-0.0253, -0.1277, -0.0233],\n",
            "          [-0.1448,  0.0232,  0.0595]]]], requires_grad=True)), ('bias_orig', Parameter containing:\n",
            "tensor([ 0.2169,  0.2489,  0.0610, -0.2357, -0.2046,  0.1156],\n",
            "       requires_grad=True))]\n"
          ]
        }
      ],
      "source": [
        "print(list(module.named_parameters()))"
      ]
    },
    {
      "cell_type": "code",
      "execution_count": 13,
      "metadata": {
        "id": "SAL7t7AfK6WP",
        "outputId": "953ae39b-1792-4f79-b168-61b63644fbb1",
        "colab": {
          "base_uri": "https://localhost:8080/"
        }
      },
      "outputs": [
        {
          "output_type": "stream",
          "name": "stdout",
          "text": [
            "[('weight_mask', tensor([[[[1., 0., 1.],\n",
            "          [1., 1., 1.],\n",
            "          [0., 1., 0.]]],\n",
            "\n",
            "\n",
            "        [[[1., 1., 1.],\n",
            "          [0., 1., 1.],\n",
            "          [0., 1., 1.]]],\n",
            "\n",
            "\n",
            "        [[[0., 1., 1.],\n",
            "          [1., 0., 0.],\n",
            "          [0., 1., 1.]]],\n",
            "\n",
            "\n",
            "        [[[1., 1., 0.],\n",
            "          [1., 0., 1.],\n",
            "          [1., 1., 1.]]],\n",
            "\n",
            "\n",
            "        [[[0., 0., 1.],\n",
            "          [0., 1., 1.],\n",
            "          [1., 1., 0.]]],\n",
            "\n",
            "\n",
            "        [[[0., 1., 1.],\n",
            "          [1., 1., 1.],\n",
            "          [1., 1., 1.]]]])), ('bias_mask', tensor([1., 1., 0., 1., 0., 0.]))]\n"
          ]
        }
      ],
      "source": [
        "print(list(module.named_buffers()))"
      ]
    },
    {
      "cell_type": "code",
      "execution_count": 14,
      "metadata": {
        "id": "aiFMsYMMK6WP",
        "outputId": "7f6f3cda-6e3a-4800-b23f-6454037d3273",
        "colab": {
          "base_uri": "https://localhost:8080/"
        }
      },
      "outputs": [
        {
          "output_type": "stream",
          "name": "stdout",
          "text": [
            "tensor([ 0.2169,  0.2489,  0.0000, -0.2357, -0.0000,  0.0000],\n",
            "       grad_fn=<MulBackward0>)\n"
          ]
        }
      ],
      "source": [
        "print(module.bias)"
      ]
    },
    {
      "cell_type": "code",
      "execution_count": 15,
      "metadata": {
        "id": "eTbc4p4QK6WP",
        "outputId": "c25ad3ce-d51c-4a63-c8f4-a2d8b68839f3",
        "colab": {
          "base_uri": "https://localhost:8080/"
        }
      },
      "outputs": [
        {
          "output_type": "stream",
          "name": "stdout",
          "text": [
            "OrderedDict([(0, <torch.nn.utils.prune.RandomUnstructured object at 0x79f160e33460>), (1, <torch.nn.utils.prune.L1Unstructured object at 0x79f160e33be0>)])\n"
          ]
        }
      ],
      "source": [
        "print(module._forward_pre_hooks)"
      ]
    },
    {
      "cell_type": "markdown",
      "metadata": {
        "id": "5chODE1fK6WQ"
      },
      "source": [
        "Iterative Pruning\n",
        "-----------------\n",
        "\n",
        "The same parameter in a module can be pruned multiple times, with the\n",
        "effect of the various pruning calls being equal to the combination of the\n",
        "various masks applied in series.\n",
        "The combination of a new mask with the old mask is handled by the\n",
        "``PruningContainer``'s ``compute_mask`` method.\n",
        "\n",
        "Say, for example, that we now want to further prune ``module.weight``, this\n",
        "time using structured pruning along the 0th axis of the tensor (the 0th axis\n",
        "corresponds to the output channels of the convolutional layer and has\n",
        "dimensionality 6 for ``conv1``), based on the channels' L2 norm. This can be\n",
        "achieved using the ``ln_structured`` function, with ``n=2`` and ``dim=0``.\n",
        "\n"
      ]
    },
    {
      "cell_type": "code",
      "execution_count": 16,
      "metadata": {
        "id": "tA-gFWjuK6WQ",
        "outputId": "09ed9c0e-4501-43f4-bb39-cb54a6860d1d",
        "colab": {
          "base_uri": "https://localhost:8080/"
        }
      },
      "outputs": [
        {
          "output_type": "stream",
          "name": "stdout",
          "text": [
            "tensor([[[[-0.0000, -0.0000,  0.0000],\n",
            "          [ 0.0000, -0.0000, -0.0000],\n",
            "          [ 0.0000,  0.0000,  0.0000]]],\n",
            "\n",
            "\n",
            "        [[[-0.0484,  0.0246,  0.1758],\n",
            "          [-0.0000, -0.3119,  0.2522],\n",
            "          [-0.0000, -0.1324, -0.2693]]],\n",
            "\n",
            "\n",
            "        [[[-0.0000,  0.0000, -0.0000],\n",
            "          [-0.0000, -0.0000,  0.0000],\n",
            "          [ 0.0000,  0.0000,  0.0000]]],\n",
            "\n",
            "\n",
            "        [[[ 0.2312, -0.2998,  0.0000],\n",
            "          [ 0.0900, -0.0000, -0.1607],\n",
            "          [ 0.2210, -0.3287,  0.1991]]],\n",
            "\n",
            "\n",
            "        [[[-0.0000,  0.0000, -0.1261],\n",
            "          [-0.0000, -0.2298,  0.0097],\n",
            "          [ 0.3044,  0.3312,  0.0000]]],\n",
            "\n",
            "\n",
            "        [[[-0.0000,  0.0000,  0.0000],\n",
            "          [-0.0000, -0.0000, -0.0000],\n",
            "          [-0.0000,  0.0000,  0.0000]]]], grad_fn=<MulBackward0>)\n"
          ]
        }
      ],
      "source": [
        "prune.ln_structured(module, name=\"weight\", amount=0.5, n=2, dim=0)\n",
        "\n",
        "# As we can verify, this will zero out all the connections corresponding to\n",
        "# 50% (3 out of 6) of the channels, while preserving the action of the\n",
        "# previous mask.\n",
        "print(module.weight)"
      ]
    },
    {
      "cell_type": "markdown",
      "metadata": {
        "id": "MvRb7aK_K6WQ"
      },
      "source": [
        "The corresponding hook will now be of type\n",
        "``torch.nn.utils.prune.PruningContainer``, and will store the history of\n",
        "pruning applied to the ``weight`` parameter.\n",
        "\n"
      ]
    },
    {
      "cell_type": "code",
      "execution_count": 17,
      "metadata": {
        "id": "UYDfhOVYK6WQ",
        "outputId": "b9dbded3-61e7-41e3-b3b4-36f9e06db47f",
        "colab": {
          "base_uri": "https://localhost:8080/"
        }
      },
      "outputs": [
        {
          "output_type": "stream",
          "name": "stdout",
          "text": [
            "[<torch.nn.utils.prune.RandomUnstructured object at 0x79f160e33460>, <torch.nn.utils.prune.LnStructured object at 0x79f160e314b0>]\n"
          ]
        }
      ],
      "source": [
        "for hook in module._forward_pre_hooks.values():\n",
        "    if hook._tensor_name == \"weight\":  # select out the correct hook\n",
        "        break\n",
        "\n",
        "print(list(hook))  # pruning history in the container"
      ]
    },
    {
      "cell_type": "markdown",
      "metadata": {
        "id": "FWCJRQUfK6WQ"
      },
      "source": [
        "Serializing a pruned model\n",
        "--------------------------\n",
        "All relevant tensors, including the mask buffers and the original parameters\n",
        "used to compute the pruned tensors are stored in the model's ``state_dict``\n",
        "and can therefore be easily serialized and saved, if needed.\n",
        "\n"
      ]
    },
    {
      "cell_type": "code",
      "execution_count": 18,
      "metadata": {
        "id": "4pOW4UsFK6WQ",
        "outputId": "b7c838c6-6ec2-4d61-e5e4-e36cdabae321",
        "colab": {
          "base_uri": "https://localhost:8080/"
        }
      },
      "outputs": [
        {
          "output_type": "stream",
          "name": "stdout",
          "text": [
            "odict_keys(['conv1.weight_orig', 'conv1.bias_orig', 'conv1.weight_mask', 'conv1.bias_mask', 'conv2.weight', 'conv2.bias', 'fc1.weight', 'fc1.bias', 'fc2.weight', 'fc2.bias', 'fc3.weight', 'fc3.bias'])\n"
          ]
        }
      ],
      "source": [
        "print(model.state_dict().keys())"
      ]
    },
    {
      "cell_type": "markdown",
      "metadata": {
        "id": "CmtaodvOK6WR"
      },
      "source": [
        "Remove pruning re-parametrization\n",
        "---------------------------------\n",
        "\n",
        "To make the pruning permanent, remove the re-parametrization in terms\n",
        "of ``weight_orig`` and ``weight_mask``, and remove the ``forward_pre_hook``,\n",
        "we can use the ``remove`` functionality from ``torch.nn.utils.prune``.\n",
        "Note that this doesn't undo the pruning, as if it never happened. It simply\n",
        "makes it permanent, instead, by reassigning the parameter ``weight`` to the\n",
        "model parameters, in its pruned version.\n",
        "\n"
      ]
    },
    {
      "cell_type": "markdown",
      "metadata": {
        "id": "gorFL7WeK6WR"
      },
      "source": [
        "Prior to removing the re-parametrization:\n",
        "\n"
      ]
    },
    {
      "cell_type": "code",
      "execution_count": 19,
      "metadata": {
        "id": "oSu1d_tdK6WR",
        "outputId": "c13ab582-48f3-43bd-cda6-38b929fea0f2",
        "colab": {
          "base_uri": "https://localhost:8080/"
        }
      },
      "outputs": [
        {
          "output_type": "stream",
          "name": "stdout",
          "text": [
            "[('weight_orig', Parameter containing:\n",
            "tensor([[[[-0.3042, -0.0610,  0.2317],\n",
            "          [ 0.1391, -0.2432, -0.1701],\n",
            "          [ 0.3275,  0.0943,  0.3178]]],\n",
            "\n",
            "\n",
            "        [[[-0.0484,  0.0246,  0.1758],\n",
            "          [-0.1188, -0.3119,  0.2522],\n",
            "          [-0.1655, -0.1324, -0.2693]]],\n",
            "\n",
            "\n",
            "        [[[-0.2291,  0.2125, -0.1033],\n",
            "          [-0.0627, -0.1335,  0.0538],\n",
            "          [ 0.3298,  0.2269,  0.2943]]],\n",
            "\n",
            "\n",
            "        [[[ 0.2312, -0.2998,  0.2443],\n",
            "          [ 0.0900, -0.2461, -0.1607],\n",
            "          [ 0.2210, -0.3287,  0.1991]]],\n",
            "\n",
            "\n",
            "        [[[-0.2154,  0.1171, -0.1261],\n",
            "          [-0.0733, -0.2298,  0.0097],\n",
            "          [ 0.3044,  0.3312,  0.2372]]],\n",
            "\n",
            "\n",
            "        [[[-0.2273,  0.3214,  0.0886],\n",
            "          [-0.0253, -0.1277, -0.0233],\n",
            "          [-0.1448,  0.0232,  0.0595]]]], requires_grad=True)), ('bias_orig', Parameter containing:\n",
            "tensor([ 0.2169,  0.2489,  0.0610, -0.2357, -0.2046,  0.1156],\n",
            "       requires_grad=True))]\n"
          ]
        }
      ],
      "source": [
        "print(list(module.named_parameters()))"
      ]
    },
    {
      "cell_type": "code",
      "execution_count": 20,
      "metadata": {
        "id": "e4lXuAp0K6WR",
        "outputId": "ac035679-0ee8-486d-fae4-6a53bc35b4f5",
        "colab": {
          "base_uri": "https://localhost:8080/"
        }
      },
      "outputs": [
        {
          "output_type": "stream",
          "name": "stdout",
          "text": [
            "[('weight_mask', tensor([[[[0., 0., 0.],\n",
            "          [0., 0., 0.],\n",
            "          [0., 0., 0.]]],\n",
            "\n",
            "\n",
            "        [[[1., 1., 1.],\n",
            "          [0., 1., 1.],\n",
            "          [0., 1., 1.]]],\n",
            "\n",
            "\n",
            "        [[[0., 0., 0.],\n",
            "          [0., 0., 0.],\n",
            "          [0., 0., 0.]]],\n",
            "\n",
            "\n",
            "        [[[1., 1., 0.],\n",
            "          [1., 0., 1.],\n",
            "          [1., 1., 1.]]],\n",
            "\n",
            "\n",
            "        [[[0., 0., 1.],\n",
            "          [0., 1., 1.],\n",
            "          [1., 1., 0.]]],\n",
            "\n",
            "\n",
            "        [[[0., 0., 0.],\n",
            "          [0., 0., 0.],\n",
            "          [0., 0., 0.]]]])), ('bias_mask', tensor([1., 1., 0., 1., 0., 0.]))]\n"
          ]
        }
      ],
      "source": [
        "print(list(module.named_buffers()))"
      ]
    },
    {
      "cell_type": "code",
      "execution_count": 21,
      "metadata": {
        "id": "PqCRgO7LK6WR",
        "outputId": "a06e057a-f481-4b28-c0e3-58c62a7d7979",
        "colab": {
          "base_uri": "https://localhost:8080/"
        }
      },
      "outputs": [
        {
          "output_type": "stream",
          "name": "stdout",
          "text": [
            "tensor([[[[-0.0000, -0.0000,  0.0000],\n",
            "          [ 0.0000, -0.0000, -0.0000],\n",
            "          [ 0.0000,  0.0000,  0.0000]]],\n",
            "\n",
            "\n",
            "        [[[-0.0484,  0.0246,  0.1758],\n",
            "          [-0.0000, -0.3119,  0.2522],\n",
            "          [-0.0000, -0.1324, -0.2693]]],\n",
            "\n",
            "\n",
            "        [[[-0.0000,  0.0000, -0.0000],\n",
            "          [-0.0000, -0.0000,  0.0000],\n",
            "          [ 0.0000,  0.0000,  0.0000]]],\n",
            "\n",
            "\n",
            "        [[[ 0.2312, -0.2998,  0.0000],\n",
            "          [ 0.0900, -0.0000, -0.1607],\n",
            "          [ 0.2210, -0.3287,  0.1991]]],\n",
            "\n",
            "\n",
            "        [[[-0.0000,  0.0000, -0.1261],\n",
            "          [-0.0000, -0.2298,  0.0097],\n",
            "          [ 0.3044,  0.3312,  0.0000]]],\n",
            "\n",
            "\n",
            "        [[[-0.0000,  0.0000,  0.0000],\n",
            "          [-0.0000, -0.0000, -0.0000],\n",
            "          [-0.0000,  0.0000,  0.0000]]]], grad_fn=<MulBackward0>)\n"
          ]
        }
      ],
      "source": [
        "print(module.weight)"
      ]
    },
    {
      "cell_type": "markdown",
      "metadata": {
        "id": "bSOeYug_K6WR"
      },
      "source": [
        "After removing the re-parametrization:\n",
        "\n"
      ]
    },
    {
      "cell_type": "code",
      "execution_count": 22,
      "metadata": {
        "id": "bJasD3KPK6WS",
        "outputId": "0aff31a2-65e9-4052-9da7-bb4f4d4fbfdb",
        "colab": {
          "base_uri": "https://localhost:8080/"
        }
      },
      "outputs": [
        {
          "output_type": "stream",
          "name": "stdout",
          "text": [
            "[('bias_orig', Parameter containing:\n",
            "tensor([ 0.2169,  0.2489,  0.0610, -0.2357, -0.2046,  0.1156],\n",
            "       requires_grad=True)), ('weight', Parameter containing:\n",
            "tensor([[[[-0.0000, -0.0000,  0.0000],\n",
            "          [ 0.0000, -0.0000, -0.0000],\n",
            "          [ 0.0000,  0.0000,  0.0000]]],\n",
            "\n",
            "\n",
            "        [[[-0.0484,  0.0246,  0.1758],\n",
            "          [-0.0000, -0.3119,  0.2522],\n",
            "          [-0.0000, -0.1324, -0.2693]]],\n",
            "\n",
            "\n",
            "        [[[-0.0000,  0.0000, -0.0000],\n",
            "          [-0.0000, -0.0000,  0.0000],\n",
            "          [ 0.0000,  0.0000,  0.0000]]],\n",
            "\n",
            "\n",
            "        [[[ 0.2312, -0.2998,  0.0000],\n",
            "          [ 0.0900, -0.0000, -0.1607],\n",
            "          [ 0.2210, -0.3287,  0.1991]]],\n",
            "\n",
            "\n",
            "        [[[-0.0000,  0.0000, -0.1261],\n",
            "          [-0.0000, -0.2298,  0.0097],\n",
            "          [ 0.3044,  0.3312,  0.0000]]],\n",
            "\n",
            "\n",
            "        [[[-0.0000,  0.0000,  0.0000],\n",
            "          [-0.0000, -0.0000, -0.0000],\n",
            "          [-0.0000,  0.0000,  0.0000]]]], requires_grad=True))]\n"
          ]
        }
      ],
      "source": [
        "prune.remove(module, 'weight')\n",
        "print(list(module.named_parameters()))"
      ]
    },
    {
      "cell_type": "code",
      "execution_count": 23,
      "metadata": {
        "id": "7dH-6NZ5K6WS",
        "outputId": "a9e729c5-39cb-4d9b-8383-3ae2a94d1a5e",
        "colab": {
          "base_uri": "https://localhost:8080/"
        }
      },
      "outputs": [
        {
          "output_type": "stream",
          "name": "stdout",
          "text": [
            "[('bias_mask', tensor([1., 1., 0., 1., 0., 0.]))]\n"
          ]
        }
      ],
      "source": [
        "print(list(module.named_buffers()))"
      ]
    },
    {
      "cell_type": "markdown",
      "metadata": {
        "id": "eFAgauAKK6WX"
      },
      "source": [
        "Pruning multiple parameters in a model\n",
        "--------------------------------------\n",
        "\n",
        "By specifying the desired pruning technique and parameters, we can easily\n",
        "prune multiple tensors in a network, perhaps according to their type, as we\n",
        "will see in this example.\n",
        "\n"
      ]
    },
    {
      "cell_type": "code",
      "execution_count": 24,
      "metadata": {
        "id": "Y0igLjK7K6WX",
        "outputId": "777962e9-d386-43a8-ba9c-6190e98d4d66",
        "colab": {
          "base_uri": "https://localhost:8080/"
        }
      },
      "outputs": [
        {
          "output_type": "stream",
          "name": "stdout",
          "text": [
            "dict_keys(['conv1.weight_mask', 'conv2.weight_mask', 'fc1.weight_mask', 'fc2.weight_mask', 'fc3.weight_mask'])\n"
          ]
        }
      ],
      "source": [
        "new_model = LeNet()\n",
        "for name, module in new_model.named_modules():\n",
        "    # prune 20% of connections in all 2D-conv layers\n",
        "    if isinstance(module, torch.nn.Conv2d):\n",
        "        prune.l1_unstructured(module, name='weight', amount=0.2)\n",
        "    # prune 40% of connections in all linear layers\n",
        "    elif isinstance(module, torch.nn.Linear):\n",
        "        prune.l1_unstructured(module, name='weight', amount=0.4)\n",
        "\n",
        "print(dict(new_model.named_buffers()).keys())  # to verify that all masks exist"
      ]
    },
    {
      "cell_type": "markdown",
      "metadata": {
        "id": "Gy4DWpvbK6WX"
      },
      "source": [
        "Global pruning\n",
        "--------------\n",
        "\n",
        "So far, we only looked at what is usually referred to as \"local\" pruning,\n",
        "i.e. the practice of pruning tensors in a model one by one, by\n",
        "comparing the statistics (weight magnitude, activation, gradient, etc.) of\n",
        "each entry exclusively to the other entries in that tensor. However, a\n",
        "common and perhaps more powerful technique is to prune the model all at\n",
        "once, by removing (for example) the lowest 20% of connections across the\n",
        "whole model, instead of removing the lowest 20% of connections in each\n",
        "layer. This is likely to result in different pruning percentages per layer.\n",
        "Let's see how to do that using ``global_unstructured`` from\n",
        "``torch.nn.utils.prune``.\n",
        "\n"
      ]
    },
    {
      "cell_type": "code",
      "execution_count": 25,
      "metadata": {
        "id": "j974gcOUK6WX"
      },
      "outputs": [],
      "source": [
        "model = LeNet()\n",
        "\n",
        "parameters_to_prune = (\n",
        "    (model.conv1, 'weight'),\n",
        "    (model.conv2, 'weight'),\n",
        "    (model.fc1, 'weight'),\n",
        "    (model.fc2, 'weight'),\n",
        "    (model.fc3, 'weight'),\n",
        ")\n",
        "\n",
        "prune.global_unstructured(\n",
        "    parameters_to_prune,\n",
        "    pruning_method=prune.L1Unstructured,\n",
        "    amount=0.2,\n",
        ")"
      ]
    },
    {
      "cell_type": "markdown",
      "metadata": {
        "id": "gga96YSuK6WX"
      },
      "source": [
        "Now we can check the sparsity induced in every pruned parameter, which will\n",
        "not be equal to 20% in each layer. However, the global sparsity will be\n",
        "(approximately) 20%.\n",
        "\n"
      ]
    },
    {
      "cell_type": "code",
      "execution_count": 26,
      "metadata": {
        "id": "s3RN4-LjK6Wa",
        "outputId": "a514983a-8289-4b6d-a868-2914e1f35daa",
        "colab": {
          "base_uri": "https://localhost:8080/"
        }
      },
      "outputs": [
        {
          "output_type": "stream",
          "name": "stdout",
          "text": [
            "Sparsity in conv1.weight: 3.70%\n",
            "Sparsity in conv2.weight: 8.10%\n",
            "Sparsity in fc1.weight: 22.11%\n",
            "Sparsity in fc2.weight: 11.91%\n",
            "Sparsity in fc3.weight: 9.88%\n",
            "Global sparsity: 20.00%\n"
          ]
        }
      ],
      "source": [
        "print(\n",
        "    \"Sparsity in conv1.weight: {:.2f}%\".format(\n",
        "        100. * float(torch.sum(model.conv1.weight == 0))\n",
        "        / float(model.conv1.weight.nelement())\n",
        "    )\n",
        ")\n",
        "print(\n",
        "    \"Sparsity in conv2.weight: {:.2f}%\".format(\n",
        "        100. * float(torch.sum(model.conv2.weight == 0))\n",
        "        / float(model.conv2.weight.nelement())\n",
        "    )\n",
        ")\n",
        "print(\n",
        "    \"Sparsity in fc1.weight: {:.2f}%\".format(\n",
        "        100. * float(torch.sum(model.fc1.weight == 0))\n",
        "        / float(model.fc1.weight.nelement())\n",
        "    )\n",
        ")\n",
        "print(\n",
        "    \"Sparsity in fc2.weight: {:.2f}%\".format(\n",
        "        100. * float(torch.sum(model.fc2.weight == 0))\n",
        "        / float(model.fc2.weight.nelement())\n",
        "    )\n",
        ")\n",
        "print(\n",
        "    \"Sparsity in fc3.weight: {:.2f}%\".format(\n",
        "        100. * float(torch.sum(model.fc3.weight == 0))\n",
        "        / float(model.fc3.weight.nelement())\n",
        "    )\n",
        ")\n",
        "print(\n",
        "    \"Global sparsity: {:.2f}%\".format(\n",
        "        100. * float(\n",
        "            torch.sum(model.conv1.weight == 0)\n",
        "            + torch.sum(model.conv2.weight == 0)\n",
        "            + torch.sum(model.fc1.weight == 0)\n",
        "            + torch.sum(model.fc2.weight == 0)\n",
        "            + torch.sum(model.fc3.weight == 0)\n",
        "        )\n",
        "        / float(\n",
        "            model.conv1.weight.nelement()\n",
        "            + model.conv2.weight.nelement()\n",
        "            + model.fc1.weight.nelement()\n",
        "            + model.fc2.weight.nelement()\n",
        "            + model.fc3.weight.nelement()\n",
        "        )\n",
        "    )\n",
        ")"
      ]
    },
    {
      "cell_type": "markdown",
      "metadata": {
        "id": "tIKg10ncK6Wa"
      },
      "source": [
        "Extending ``torch.nn.utils.prune`` with custom pruning functions\n",
        "------------------------------------------------------------------\n",
        "To implement your own pruning function, you can extend the\n",
        "``nn.utils.prune`` module by subclassing the ``BasePruningMethod``\n",
        "base class, the same way all other pruning methods do. The base class\n",
        "implements the following methods for you: ``__call__``, ``apply_mask``,\n",
        "``apply``, ``prune``, and ``remove``. Beyond some special cases, you shouldn't\n",
        "have to reimplement these methods for your new pruning technique.\n",
        "You will, however, have to implement ``__init__`` (the constructor),\n",
        "and ``compute_mask`` (the instructions on how to compute the mask\n",
        "for the given tensor according to the logic of your pruning\n",
        "technique). In addition, you will have to specify which type of\n",
        "pruning this technique implements (supported options are ``global``,\n",
        "``structured``, and ``unstructured``). This is needed to determine\n",
        "how to combine masks in the case in which pruning is applied\n",
        "iteratively. In other words, when pruning a pre-pruned parameter,\n",
        "the current prunining techique is expected to act on the unpruned\n",
        "portion of the parameter. Specifying the ``PRUNING_TYPE`` will\n",
        "enable the ``PruningContainer`` (which handles the iterative\n",
        "application of pruning masks) to correctly identify the slice of the\n",
        "parameter to prune.\n",
        "\n",
        "Let's assume, for example, that you want to implement a pruning\n",
        "technique that prunes every other entry in a tensor (or -- if the\n",
        "tensor has previously been pruned -- in the remaining unpruned\n",
        "portion of the tensor). This will be of ``PRUNING_TYPE='unstructured'``\n",
        "because it acts on individual connections in a layer and not on entire\n",
        "units/channels (``'structured'``), or across different parameters\n",
        "(``'global'``).\n",
        "\n"
      ]
    },
    {
      "cell_type": "code",
      "execution_count": 27,
      "metadata": {
        "id": "fF9CohMpK6Wa"
      },
      "outputs": [],
      "source": [
        "class FooBarPruningMethod(prune.BasePruningMethod):\n",
        "    \"\"\"Prune every other entry in a tensor\n",
        "    \"\"\"\n",
        "    PRUNING_TYPE = 'unstructured'\n",
        "\n",
        "    def compute_mask(self, t, default_mask):\n",
        "        mask = default_mask.clone()\n",
        "        mask.view(-1)[::2] = 0\n",
        "        return mask"
      ]
    },
    {
      "cell_type": "markdown",
      "metadata": {
        "id": "T86Gs6fKK6Wa"
      },
      "source": [
        "Now, to apply this to a parameter in an ``nn.Module``, you should\n",
        "also provide a simple function that instantiates the method and\n",
        "applies it.\n",
        "\n"
      ]
    },
    {
      "cell_type": "code",
      "execution_count": 28,
      "metadata": {
        "id": "CSGatnD3K6Wa"
      },
      "outputs": [],
      "source": [
        "def foobar_unstructured(module, name):\n",
        "    \"\"\"Prunes tensor corresponding to parameter called `name` in `module`\n",
        "    by removing every other entry in the tensors.\n",
        "    Modifies module in place (and also return the modified module)\n",
        "    by:\n",
        "    1) adding a named buffer called `name+'_mask'` corresponding to the\n",
        "    binary mask applied to the parameter `name` by the pruning method.\n",
        "    The parameter `name` is replaced by its pruned version, while the\n",
        "    original (unpruned) parameter is stored in a new parameter named\n",
        "    `name+'_orig'`.\n",
        "\n",
        "    Args:\n",
        "        module (nn.Module): module containing the tensor to prune\n",
        "        name (string): parameter name within `module` on which pruning\n",
        "                will act.\n",
        "\n",
        "    Returns:\n",
        "        module (nn.Module): modified (i.e. pruned) version of the input\n",
        "            module\n",
        "\n",
        "    Examples:\n",
        "        >>> m = nn.Linear(3, 4)\n",
        "        >>> foobar_unstructured(m, name='bias')\n",
        "    \"\"\"\n",
        "    FooBarPruningMethod.apply(module, name)\n",
        "    return module"
      ]
    },
    {
      "cell_type": "markdown",
      "metadata": {
        "id": "kBq0aeHWK6Wb"
      },
      "source": [
        "Let's try it out!\n",
        "\n"
      ]
    },
    {
      "cell_type": "code",
      "execution_count": 29,
      "metadata": {
        "id": "ITn-wQlmK6Wb",
        "outputId": "cad46833-6610-4275-904f-b825eeb28ff1",
        "colab": {
          "base_uri": "https://localhost:8080/"
        }
      },
      "outputs": [
        {
          "output_type": "stream",
          "name": "stdout",
          "text": [
            "tensor([0., 1., 0., 1., 0., 1., 0., 1., 0., 1.])\n"
          ]
        }
      ],
      "source": [
        "model = LeNet()\n",
        "foobar_unstructured(model.fc3, name='bias')\n",
        "\n",
        "print(model.fc3.bias_mask)"
      ]
    }
  ],
  "metadata": {
    "kernelspec": {
      "display_name": "Python 3",
      "language": "python",
      "name": "python3"
    },
    "language_info": {
      "codemirror_mode": {
        "name": "ipython",
        "version": 3
      },
      "file_extension": ".py",
      "mimetype": "text/x-python",
      "name": "python",
      "nbconvert_exporter": "python",
      "pygments_lexer": "ipython3",
      "version": "3.7.13"
    },
    "colab": {
      "provenance": []
    }
  },
  "nbformat": 4,
  "nbformat_minor": 0
}